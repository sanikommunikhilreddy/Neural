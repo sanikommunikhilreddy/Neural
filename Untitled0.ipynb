{
  "nbformat": 4,
  "nbformat_minor": 0,
  "metadata": {
    "colab": {
      "provenance": []
    },
    "kernelspec": {
      "name": "python3",
      "display_name": "Python 3"
    },
    "language_info": {
      "name": "python"
    }
  },
  "cells": [
    {
      "cell_type": "code",
      "execution_count": null,
      "metadata": {
        "colab": {
          "base_uri": "https://localhost:8080/"
        },
        "id": "MJGzQunAJTSx",
        "outputId": "56e6a83a-c193-4390-aef0-2df3629c0da9"
      },
      "outputs": [
        {
          "output_type": "stream",
          "name": "stdout",
          "text": [
            "Enter the string: Python\n",
            "Sample output:\n",
            "noht\n"
          ]
        }
      ],
      "source": [
        "#PROGRAM 1\n",
        "# Input the string \"Python\"\n",
        "ip = list(input(\"Enter the string: \"))\n",
        "\n",
        "# Deleting at least 2 characters\n",
        "if len(ip) >= 2:\n",
        "    del ip[:2]\n",
        "\n",
        "# Reverse the obtained string\n",
        "resultant_string = ip[::-1]\n",
        "\n",
        "# Print the final reversed string\n",
        "print(\"Sample output:\")\n",
        "print(\"\".join(resultant_string))"
      ]
    },
    {
      "cell_type": "code",
      "source": [
        "#PROGRAM 2\n",
        "# Taking two numbers from the user\n",
        "n1 = int(input(\"First number: \"))\n",
        "n2 = int(input(\"Second number: \"))\n",
        "\n",
        "# Performing arithmetic operations\n",
        "add_result = n1 + n2\n",
        "sub_result = n1 - n2\n",
        "multi_result = n1 * n2\n",
        "div_result = n1 / n2\n",
        "\n",
        "# Print the results of arithmetic operations\n",
        "print(\"Arithmetic Operations:\")\n",
        "print(f\"Addition: {add_result}\")\n",
        "print(f\"Subtraction: {sub_result}\")\n",
        "print(f\"Multiplication: {multi_result}\")\n",
        "print(f\"Division: {div_result}\")"
      ],
      "metadata": {
        "colab": {
          "base_uri": "https://localhost:8080/"
        },
        "id": "YB4wvAHjKyFq",
        "outputId": "3eb7f991-f6dc-4406-f336-45e7252ae711"
      },
      "execution_count": null,
      "outputs": [
        {
          "output_type": "stream",
          "name": "stdout",
          "text": [
            "First number: 123\n",
            "Second number: 456\n",
            "Arithmetic Operations:\n",
            "Addition: 579\n",
            "Subtraction: -333\n",
            "Multiplication: 56088\n",
            "Division: 0.26973684210526316\n"
          ]
        }
      ]
    },
    {
      "cell_type": "code",
      "source": [
        "#PROGRAM 3\n",
        "# Taking a sentence from the user\n",
        "inp_sentence = input(\"Enter a sentence: \")\n",
        "\n",
        "# Replacing each occurrence of 'python' with 'pythons'\n",
        "op_sentence = inp_sentence.replace('python', 'pythons')\n",
        "\n",
        "# Print the modified sentence\n",
        "print(\"Sample output:\")\n",
        "print(op_sentence)"
      ],
      "metadata": {
        "colab": {
          "base_uri": "https://localhost:8080/"
        },
        "id": "wsrfEcDFK89T",
        "outputId": "d0109732-da0d-471d-b658-00be32430451"
      },
      "execution_count": null,
      "outputs": [
        {
          "output_type": "stream",
          "name": "stdout",
          "text": [
            "Enter a sentence: python\n",
            "Sample output:\n",
            "pythons\n"
          ]
        }
      ]
    },
    {
      "cell_type": "code",
      "source": [
        "#PROGRAM 4\n",
        "# Take the class score from the user\n",
        "cls_score = float(input(\"Enter class score: \"))\n",
        "\n",
        "# Determining the letter grade based on the grading scheme\n",
        "if 90 <= cls_score <= 100:\n",
        "    grade = 'A'\n",
        "elif 80 <= cls_score < 90:\n",
        "    grade = 'B'\n",
        "elif 70 <= cls_score < 80:\n",
        "    grade = 'C'\n",
        "elif 60 <= cls_score < 70:\n",
        "    grade = 'D'\n",
        "else:\n",
        "    grade = 'F'\n",
        "\n",
        "# Print the letter grade\n",
        "print(f\"The grade {cls_score} is: {grade}\")\n"
      ],
      "metadata": {
        "colab": {
          "base_uri": "https://localhost:8080/"
        },
        "id": "C2QbCt_NLRfj",
        "outputId": "f4e4c8a4-8965-43d2-e80a-41762d326b4f"
      },
      "execution_count": null,
      "outputs": [
        {
          "output_type": "stream",
          "name": "stdout",
          "text": [
            "Enter class score: 80\n",
            "The grade 80.0 is: B\n"
          ]
        }
      ]
    }
  ]
}